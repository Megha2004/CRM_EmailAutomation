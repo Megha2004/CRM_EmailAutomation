{
  "cells": [
    {
      "cell_type": "markdown",
      "metadata": {
        "id": "view-in-github",
        "colab_type": "text"
      },
      "source": [
        "<a href=\"https://colab.research.google.com/github/Megha2004/CRM_EmailAutomation/blob/main/Email_Automation.ipynb\" target=\"_parent\"><img src=\"https://colab.research.google.com/assets/colab-badge.svg\" alt=\"Open In Colab\"/></a>"
      ]
    },
    {
      "cell_type": "markdown",
      "metadata": {
        "id": "PnznkejcU3O7"
      },
      "source": [
        "**Sending mail to specific people**"
      ]
    },
    {
      "cell_type": "code",
      "execution_count": null,
      "metadata": {
        "id": "QBh6SCbWyot0"
      },
      "outputs": [],
      "source": [
        "import smtplib\n",
        "import ssl\n",
        "from email.message import EmailMessage\n",
        "import os\n",
        "\n",
        "# Define email sender and receiver\n",
        "email_sender = 'meghaganesan294@gmail.com'\n",
        "email_password = 'rxyo rzvk mofv bwoz'\n",
        "email_receiver = 'lavanyamohan25204@gmail.com'\n",
        "\n",
        "# Set the subject and body of the email\n",
        "subject = 'Email with Image Attachment'\n",
        "body = \"\"\"\n",
        "This email contains an attached image.\n",
        "\"\"\"\n",
        "\n",
        "# Create an EmailMessage\n",
        "em = EmailMessage()\n",
        "em['From'] = email_sender\n",
        "em['To'] = email_receiver\n",
        "em['Subject'] = subject\n",
        "em.set_content(body)\n",
        "\n",
        "# Attach an image to the email\n",
        "# Replace 'path_to_your_image' with the actual path to the image you want to send\n",
        "image_filename = '/content/CRM_Deals[1] (2).pbix'  # Provide a desired name for the attached image\n",
        "with open('/content/CRM_Deals[1] (2).pbix', 'rb') as image_file:\n",
        "    em.add_attachment(image_file.read(), maintype='image', subtype='pbix', filename=image_filename)\n",
        "\n",
        "# Add SSL (layer of security)\n",
        "context = ssl.create_default_context()\n",
        "\n",
        "# Log in and send the email\n",
        "with smtplib.SMTP_SSL('smtp.gmail.com', 465, context=context) as smtp:\n",
        "    smtp.login(email_sender, email_password)\n",
        "    smtp.send_message(em)\n"
      ]
    },
    {
      "cell_type": "markdown",
      "metadata": {
        "id": "0o7FVzELVE4C"
      },
      "source": [
        "**Sending mail to email in dataset**"
      ]
    },
    {
      "cell_type": "code",
      "execution_count": null,
      "metadata": {
        "id": "HM1zLkq-TdmX"
      },
      "outputs": [],
      "source": [
        "import smtplib\n",
        "import ssl\n",
        "from email.message import EmailMessage\n",
        "import csv\n",
        "\n",
        "# Define email sender\n",
        "email_sender = 'meghaganesan294@gmail.com'\n",
        "email_password = 'rxyo rzvk mofv bwoz'\n",
        "\n",
        "# Set the subject and body of the email\n",
        "subject = 'Update from Your CRM System'\n",
        "body = \"\"\"\n",
        "Dear recipient,\n",
        "\n",
        "This is an automated update from your CRM system.\n",
        "\n",
        "Best regards,\n",
        "Your Name\n",
        "\"\"\"\n",
        "\n",
        "# Create an EmailMessage\n",
        "em = EmailMessage()\n",
        "em['From'] = email_sender\n",
        "em['Subject'] = subject\n",
        "em.set_content(body)\n",
        "\n",
        "# Add SSL (layer of security)\n",
        "context = ssl.create_default_context()\n",
        "\n",
        "# Load the dataset containing email addresses\n",
        "# Assuming you have a CSV file with a 'email' column\n",
        "with open('/content/leads_email.csv', 'r') as file:\n",
        "    reader = csv.DictReader(file)\n",
        "    for row in reader:\n",
        "        email_receiver = row['email']\n",
        "        specific_people = ['953621243033@ritrjpm.ac.in']\n",
        "\n",
        "        if email_receiver in specific_people:\n",
        "            # Log in and send the email\n",
        "            with smtplib.SMTP_SSL('smtp.gmail.com', 465, context=context) as smtp:\n",
        "                smtp.login(email_sender, email_password)\n",
        "                em['To'] = email_receiver\n",
        "                smtp.send_message(em)\n"
      ]
    },
    {
      "cell_type": "markdown",
      "metadata": {
        "id": "m4z_VjXIVQg2"
      },
      "source": [
        "**Sending mail to clients**"
      ]
    },
    {
      "cell_type": "code",
      "execution_count": null,
      "metadata": {
        "colab": {
          "base_uri": "https://localhost:8080/"
        },
        "id": "chVAFs_uNU-B",
        "outputId": "c849ffc8-9a80-4f34-efea-4d7a6b1c8880"
      },
      "outputs": [
        {
          "output_type": "stream",
          "name": "stdout",
          "text": [
            "2023-10-30 08:21:45.546991: E tensorflow/compiler/xla/stream_executor/cuda/cuda_dnn.cc:9342] Unable to register cuDNN factory: Attempting to register factory for plugin cuDNN when one has already been registered\n",
            "2023-10-30 08:21:45.547055: E tensorflow/compiler/xla/stream_executor/cuda/cuda_fft.cc:609] Unable to register cuFFT factory: Attempting to register factory for plugin cuFFT when one has already been registered\n",
            "2023-10-30 08:21:45.547092: E tensorflow/compiler/xla/stream_executor/cuda/cuda_blas.cc:1518] Unable to register cuBLAS factory: Attempting to register factory for plugin cuBLAS when one has already been registered\n",
            "2023-10-30 08:21:46.787660: W tensorflow/compiler/tf2tensorrt/utils/py_utils.cc:38] TF-TRT Warning: Could not find TensorRT\n",
            "Collecting en-core-web-lg==3.6.0\n",
            "  Downloading https://github.com/explosion/spacy-models/releases/download/en_core_web_lg-3.6.0/en_core_web_lg-3.6.0-py3-none-any.whl (587.7 MB)\n",
            "\u001b[2K     \u001b[90m━━━━━━━━━━━━━━━━━━━━━━━━━━━━━━━━━━━━━━━━\u001b[0m \u001b[32m587.7/587.7 MB\u001b[0m \u001b[31m2.5 MB/s\u001b[0m eta \u001b[36m0:00:00\u001b[0m\n",
            "\u001b[?25hRequirement already satisfied: spacy<3.7.0,>=3.6.0 in /usr/local/lib/python3.10/dist-packages (from en-core-web-lg==3.6.0) (3.6.1)\n",
            "Requirement already satisfied: spacy-legacy<3.1.0,>=3.0.11 in /usr/local/lib/python3.10/dist-packages (from spacy<3.7.0,>=3.6.0->en-core-web-lg==3.6.0) (3.0.12)\n",
            "Requirement already satisfied: spacy-loggers<2.0.0,>=1.0.0 in /usr/local/lib/python3.10/dist-packages (from spacy<3.7.0,>=3.6.0->en-core-web-lg==3.6.0) (1.0.5)\n",
            "Requirement already satisfied: murmurhash<1.1.0,>=0.28.0 in /usr/local/lib/python3.10/dist-packages (from spacy<3.7.0,>=3.6.0->en-core-web-lg==3.6.0) (1.0.10)\n",
            "Requirement already satisfied: cymem<2.1.0,>=2.0.2 in /usr/local/lib/python3.10/dist-packages (from spacy<3.7.0,>=3.6.0->en-core-web-lg==3.6.0) (2.0.8)\n",
            "Requirement already satisfied: preshed<3.1.0,>=3.0.2 in /usr/local/lib/python3.10/dist-packages (from spacy<3.7.0,>=3.6.0->en-core-web-lg==3.6.0) (3.0.9)\n",
            "Requirement already satisfied: thinc<8.2.0,>=8.1.8 in /usr/local/lib/python3.10/dist-packages (from spacy<3.7.0,>=3.6.0->en-core-web-lg==3.6.0) (8.1.12)\n",
            "Requirement already satisfied: wasabi<1.2.0,>=0.9.1 in /usr/local/lib/python3.10/dist-packages (from spacy<3.7.0,>=3.6.0->en-core-web-lg==3.6.0) (1.1.2)\n",
            "Requirement already satisfied: srsly<3.0.0,>=2.4.3 in /usr/local/lib/python3.10/dist-packages (from spacy<3.7.0,>=3.6.0->en-core-web-lg==3.6.0) (2.4.8)\n",
            "Requirement already satisfied: catalogue<2.1.0,>=2.0.6 in /usr/local/lib/python3.10/dist-packages (from spacy<3.7.0,>=3.6.0->en-core-web-lg==3.6.0) (2.0.10)\n",
            "Requirement already satisfied: typer<0.10.0,>=0.3.0 in /usr/local/lib/python3.10/dist-packages (from spacy<3.7.0,>=3.6.0->en-core-web-lg==3.6.0) (0.9.0)\n",
            "Requirement already satisfied: pathy>=0.10.0 in /usr/local/lib/python3.10/dist-packages (from spacy<3.7.0,>=3.6.0->en-core-web-lg==3.6.0) (0.10.3)\n",
            "Requirement already satisfied: smart-open<7.0.0,>=5.2.1 in /usr/local/lib/python3.10/dist-packages (from spacy<3.7.0,>=3.6.0->en-core-web-lg==3.6.0) (6.4.0)\n",
            "Requirement already satisfied: tqdm<5.0.0,>=4.38.0 in /usr/local/lib/python3.10/dist-packages (from spacy<3.7.0,>=3.6.0->en-core-web-lg==3.6.0) (4.66.1)\n",
            "Requirement already satisfied: numpy>=1.15.0 in /usr/local/lib/python3.10/dist-packages (from spacy<3.7.0,>=3.6.0->en-core-web-lg==3.6.0) (1.23.5)\n",
            "Requirement already satisfied: requests<3.0.0,>=2.13.0 in /usr/local/lib/python3.10/dist-packages (from spacy<3.7.0,>=3.6.0->en-core-web-lg==3.6.0) (2.31.0)\n",
            "Requirement already satisfied: pydantic!=1.8,!=1.8.1,<3.0.0,>=1.7.4 in /usr/local/lib/python3.10/dist-packages (from spacy<3.7.0,>=3.6.0->en-core-web-lg==3.6.0) (1.10.13)\n",
            "Requirement already satisfied: jinja2 in /usr/local/lib/python3.10/dist-packages (from spacy<3.7.0,>=3.6.0->en-core-web-lg==3.6.0) (3.1.2)\n",
            "Requirement already satisfied: setuptools in /usr/local/lib/python3.10/dist-packages (from spacy<3.7.0,>=3.6.0->en-core-web-lg==3.6.0) (67.7.2)\n",
            "Requirement already satisfied: packaging>=20.0 in /usr/local/lib/python3.10/dist-packages (from spacy<3.7.0,>=3.6.0->en-core-web-lg==3.6.0) (23.2)\n",
            "Requirement already satisfied: langcodes<4.0.0,>=3.2.0 in /usr/local/lib/python3.10/dist-packages (from spacy<3.7.0,>=3.6.0->en-core-web-lg==3.6.0) (3.3.0)\n",
            "Requirement already satisfied: typing-extensions>=4.2.0 in /usr/local/lib/python3.10/dist-packages (from pydantic!=1.8,!=1.8.1,<3.0.0,>=1.7.4->spacy<3.7.0,>=3.6.0->en-core-web-lg==3.6.0) (4.5.0)\n",
            "Requirement already satisfied: charset-normalizer<4,>=2 in /usr/local/lib/python3.10/dist-packages (from requests<3.0.0,>=2.13.0->spacy<3.7.0,>=3.6.0->en-core-web-lg==3.6.0) (3.3.1)\n",
            "Requirement already satisfied: idna<4,>=2.5 in /usr/local/lib/python3.10/dist-packages (from requests<3.0.0,>=2.13.0->spacy<3.7.0,>=3.6.0->en-core-web-lg==3.6.0) (3.4)\n",
            "Requirement already satisfied: urllib3<3,>=1.21.1 in /usr/local/lib/python3.10/dist-packages (from requests<3.0.0,>=2.13.0->spacy<3.7.0,>=3.6.0->en-core-web-lg==3.6.0) (2.0.7)\n",
            "Requirement already satisfied: certifi>=2017.4.17 in /usr/local/lib/python3.10/dist-packages (from requests<3.0.0,>=2.13.0->spacy<3.7.0,>=3.6.0->en-core-web-lg==3.6.0) (2023.7.22)\n",
            "Requirement already satisfied: blis<0.8.0,>=0.7.8 in /usr/local/lib/python3.10/dist-packages (from thinc<8.2.0,>=8.1.8->spacy<3.7.0,>=3.6.0->en-core-web-lg==3.6.0) (0.7.11)\n",
            "Requirement already satisfied: confection<1.0.0,>=0.0.1 in /usr/local/lib/python3.10/dist-packages (from thinc<8.2.0,>=8.1.8->spacy<3.7.0,>=3.6.0->en-core-web-lg==3.6.0) (0.1.3)\n",
            "Requirement already satisfied: click<9.0.0,>=7.1.1 in /usr/local/lib/python3.10/dist-packages (from typer<0.10.0,>=0.3.0->spacy<3.7.0,>=3.6.0->en-core-web-lg==3.6.0) (8.1.7)\n",
            "Requirement already satisfied: MarkupSafe>=2.0 in /usr/local/lib/python3.10/dist-packages (from jinja2->spacy<3.7.0,>=3.6.0->en-core-web-lg==3.6.0) (2.1.3)\n",
            "Installing collected packages: en-core-web-lg\n",
            "Successfully installed en-core-web-lg-3.6.0\n",
            "\u001b[38;5;2m✔ Download and installation successful\u001b[0m\n",
            "You can now load the package via spacy.load('en_core_web_lg')\n"
          ]
        }
      ],
      "source": [
        "!python -m spacy download en_core_web_lg"
      ]
    },
    {
      "cell_type": "code",
      "execution_count": null,
      "metadata": {
        "colab": {
          "base_uri": "https://localhost:8080/"
        },
        "id": "QZkgn4bRSPLa",
        "outputId": "93da529a-c025-4589-be5e-bf3bcad710b8"
      },
      "outputs": [
        {
          "output_type": "execute_result",
          "data": {
            "text/plain": [
              "('BYE', [b'LOGOUT Requested'])"
            ]
          },
          "metadata": {},
          "execution_count": 5
        }
      ],
      "source": [
        "import imaplib\n",
        "import email\n",
        "import smtplib\n",
        "import ssl\n",
        "from email.message import EmailMessage\n",
        "import csv\n",
        "import spacy\n",
        "\n",
        "# Load SpaCy model and dataset\n",
        "nlp = spacy.load(\"en_core_web_lg\")\n",
        "\n",
        "# Load your dataset with patterns and responses from a CSV file\n",
        "dataset = []\n",
        "with open('/content/chatbot.csv', newline='', encoding='ISO-8859-1') as csvfile:\n",
        "    reader = csv.DictReader(csvfile)\n",
        "    for row in reader:\n",
        "        dataset.append({\"Pattern\": row[\"Pattern\"], \"Response\": row[\"Response\"]})\n",
        "\n",
        "# Define email sender\n",
        "email_sender = 'meghaganesan294@gmail.com'\n",
        "email_password = 'rxyo rzvk mofv bwoz'\n",
        "\n",
        "# Add SSL (layer of security)\n",
        "context = ssl.create_default_context()\n",
        "\n",
        "# Connect to your email server and fetch incoming emails (IMAP)\n",
        "mail = imaplib.IMAP4_SSL('imap.gmail.com')\n",
        "mail.login(email_sender, email_password)\n",
        "mail.select('inbox')\n",
        "\n",
        "# Search for and fetch unread emails\n",
        "status, email_ids = mail.search(None, 'UNSEEN')\n",
        "email_ids = email_ids[0].split()\n",
        "\n",
        "# Iterate through unread emails\n",
        "for email_id in email_ids:\n",
        "    status, email_data = mail.fetch(email_id, '(RFC822)')\n",
        "    msg = email.message_from_bytes(email_data[0][1])\n",
        "\n",
        "    # Extract the client's question from the email content\n",
        "    email_subject = msg['Subject']\n",
        "    email_payload = msg.get_payload()\n",
        "    client_question = \"\"\n",
        "\n",
        "    if email_payload is not None:\n",
        "        if isinstance(email_payload, list):\n",
        "            for part in email_payload:\n",
        "                if part.get_content_type() == \"text/plain\":\n",
        "                    try:\n",
        "                        client_question = part.get_payload(decode=True).decode('utf-8', 'ignore')\n",
        "                    except UnicodeDecodeError:\n",
        "                        client_question = part.get_payload(decode=True, errors='ignore').decode('iso-8859-1', 'ignore')\n",
        "                    break  # Use the first plain text part\n",
        "        elif email_payload.get_content_type() == \"text/plain\":\n",
        "            try:\n",
        "                client_question = email_payload.get_payload(decode=True).decode('utf-8', 'ignore')\n",
        "            except UnicodeDecodeError:\n",
        "                client_question = email_payload.get_payload(decode=True, errors='ignore').decode('iso-8859-1', 'ignore')\n",
        "\n",
        "    # Combine email subject and body as the client's question\n",
        "    client_question = f\"{email_subject}\\n\\n{client_question}\"\n",
        "\n",
        "    # Calculate similarity between client question and dataset patterns\n",
        "    similarities = {}\n",
        "    for data in dataset:\n",
        "        similarity = nlp(client_question).similarity(nlp(data[\"Pattern\"]))\n",
        "        similarities[data[\"Pattern\"]] = similarity\n",
        "\n",
        "    # Find the response for the best matching pattern\n",
        "    best_match = max(similarities, key=similarities.get)\n",
        "    response = next(item[\"Response\"] for item in dataset if item[\"Pattern\"] == best_match)\n",
        "\n",
        "    # Send an email response to the client\n",
        "    email_receiver = msg['From']\n",
        "    subject = 'Response from CRM'\n",
        "    body = response  # Set the email body to the response\n",
        "\n",
        "    em = EmailMessage()\n",
        "    em['From'] = email_sender\n",
        "    em['To'] = email_receiver\n",
        "    em['Subject'] = subject\n",
        "    em.set_content(body)\n",
        "\n",
        "    # Log in and send the email\n",
        "    with smtplib.SMTP_SSL('smtp.gmail.com', 465, context=context) as smtp:\n",
        "        smtp.login(email_sender, email_password)\n",
        "        smtp.send_message(em)\n",
        "\n",
        "    # Mark the email as read\n",
        "    mail.store(email_id, '+FLAGS', '\\\\Seen')\n",
        "\n",
        "# Disconnect from the email server\n",
        "mail.logout()\n"
      ]
    },
    {
      "cell_type": "markdown",
      "source": [
        "**Email with template**"
      ],
      "metadata": {
        "id": "kl2STIJHqeCz"
      }
    },
    {
      "cell_type": "code",
      "source": [
        "import imaplib\n",
        "import email\n",
        "import smtplib\n",
        "import ssl\n",
        "from email.message import EmailMessage\n",
        "import csv\n",
        "import spacy\n",
        "\n",
        "# Load SpaCy model and dataset\n",
        "nlp = spacy.load(\"en_core_web_lg\")\n",
        "\n",
        "# Load your dataset with patterns and responses from a CSV file\n",
        "dataset = []\n",
        "with open('/content/chatbot.csv', newline='', encoding='ISO-8859-1') as csvfile:\n",
        "    reader = csv.DictReader(csvfile)\n",
        "    for row in reader:\n",
        "        dataset.append({\"Pattern\": row[\"Pattern\"], \"Response\": row[\"Response\"]})\n",
        "\n",
        "# Define email sender\n",
        "email_sender = 'meghaganesan294@gmail.com'\n",
        "email_password = 'rxyo rzvk mofv bwoz'\n",
        "\n",
        "# Load the HTML email template\n",
        "with open('test.html', 'r') as file:\n",
        "    template = file.read()\n",
        "\n",
        "# Add SSL (layer of security)\n",
        "context = ssl.create_default_context()\n",
        "\n",
        "# Connect to your email server and fetch incoming emails (IMAP)\n",
        "mail = imaplib.IMAP4_SSL('imap.gmail.com')\n",
        "mail.login(email_sender, email_password)\n",
        "mail.select('inbox')\n",
        "\n",
        "# Search for and fetch unread emails\n",
        "status, email_ids = mail.search(None, 'UNSEEN')\n",
        "email_ids = email_ids[0].split()\n",
        "\n",
        "# Iterate through unread emails\n",
        "for email_id in email_ids:\n",
        "    status, email_data = mail.fetch(email_id, '(RFC822)')\n",
        "    msg = email.message_from_bytes(email_data[0][1])\n",
        "\n",
        "    # Extract the client's question from the email content\n",
        "    email_subject = msg['Subject']\n",
        "    email_payload = msg.get_payload()\n",
        "    client_question = \"\"\n",
        "\n",
        "    if email_payload is not None:\n",
        "        if isinstance(email_payload, list):\n",
        "            for part in email_payload:\n",
        "                if part.get_content_type() == \"text/plain\":\n",
        "                    try:\n",
        "                        client_question = part.get_payload(decode=True).decode('utf-8', 'ignore')\n",
        "                    except UnicodeDecodeError:\n",
        "                        client_question = part.get_payload(decode=True, errors='ignore').decode('iso-8859-1', 'ignore')\n",
        "                    break  # Use the first plain text part\n",
        "        elif msg.get_content_type() == \"text/plain\":\n",
        "            try:\n",
        "                client_question = email_payload.get_payload(decode=True).decode('utf-8', 'ignore')\n",
        "            except UnicodeDecodeError:\n",
        "                client_question = email_payload.get_payload(decode=True, errors='ignore').decode('iso-8859-1', 'ignore')\n",
        "\n",
        "    # Combine email subject and body as the client's question\n",
        "    client_question = f\"{email_subject}\\n\\n{client_question}\"\n",
        "\n",
        "    # Calculate similarity between client question and dataset patterns\n",
        "    similarities = {}\n",
        "    for data in dataset:\n",
        "        similarity = nlp(client_question).similarity(nlp(data[\"Pattern\"]))\n",
        "        similarities[data[\"Pattern\"]] = similarity\n",
        "\n",
        "    # Find the response for the best matching pattern\n",
        "    best_match = max(similarities, key=similarities.get)\n",
        "    response = next(item[\"Response\"] for item in dataset if item[\"Pattern\"] == best_match)\n",
        "\n",
        "    # Send an email response to the client\n",
        "    email_receiver = msg['From']\n",
        "    subject = 'Response from CRM'\n",
        "\n",
        "    # Extract the client's name from the email sender's address\n",
        "    email_receiver = msg['From']\n",
        "    client_name = email_receiver.split('<')[0].strip()\n",
        "\n",
        "    # After extracting the client's name from the email, replace it in the email template\n",
        "    template = template.replace('{client_name}', client_name)\n",
        "\n",
        "    # Replace the {response} placeholder with the actual response\n",
        "    email_content = template.replace('{response}', response)\n",
        "\n",
        "    em = EmailMessage()\n",
        "    em['From'] = email_sender\n",
        "    em['To'] = email_receiver\n",
        "    em['Subject'] = subject\n",
        "    em.set_content(email_content, subtype='html') # Set the email body to the response with HTML content\n",
        "\n",
        "    # Log in and send the email\n",
        "    with smtplib.SMTP_SSL('smtp.gmail.com', 465, context=context) as smtp:\n",
        "        smtp.login(email_sender, email_password)\n",
        "        smtp.send_message(em)\n",
        "\n",
        "    # Mark the email as read\n",
        "    mail.store(email_id, '+FLAGS', '\\\\Seen')\n",
        "\n",
        "# Disconnect from the email server\n",
        "mail.logout()\n"
      ],
      "metadata": {
        "id": "ZsViZXFfcmqL",
        "colab": {
          "base_uri": "https://localhost:8080/"
        },
        "outputId": "c8834c29-d504-46b7-9ac4-a10c12e4b354"
      },
      "execution_count": null,
      "outputs": [
        {
          "output_type": "execute_result",
          "data": {
            "text/plain": [
              "('BYE', [b'LOGOUT Requested'])"
            ]
          },
          "metadata": {},
          "execution_count": 4
        }
      ]
    },
    {
      "cell_type": "code",
      "source": [],
      "metadata": {
        "id": "Eby7MRshAE2D"
      },
      "execution_count": null,
      "outputs": []
    }
  ],
  "metadata": {
    "colab": {
      "provenance": [],
      "authorship_tag": "ABX9TyOr+F2MVgGRZMtVpn6zhfF0",
      "include_colab_link": true
    },
    "kernelspec": {
      "display_name": "Python 3",
      "name": "python3"
    },
    "language_info": {
      "name": "python"
    }
  },
  "nbformat": 4,
  "nbformat_minor": 0
}